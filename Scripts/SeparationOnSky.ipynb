{
 "cells": [
  {
   "cell_type": "code",
   "execution_count": 2,
   "metadata": {},
   "outputs": [],
   "source": [
    "from astropy.io import fits\n",
    "from pyuvdata import UVData\n",
    "import numpy as np\n",
    "import math\n",
    "import scipy.io\n",
    "from astropy.coordinates import EarthLocation, SkyCoord, AltAz, Angle\n",
    "from astropy.time import Time"
   ]
  },
  {
   "cell_type": "code",
   "execution_count": 5,
   "metadata": {},
   "outputs": [],
   "source": [
    "path = \"/Users/dstorer/Files/hera_FHD_results/ssinsFlagged/2458098.37904\"\n",
    "version = \"fhd_ssinsFlaggedHeraDataJoshSettingsJuly2019_11\"\n",
    "obsid = \"zen.2458098.37904.HH_11\"\n",
    "RA = 1\n",
    "DEC = 1\n",
    "\n",
    "prefix = path + '/' + version + '/' + 'metadata' + '/' + obsid + '_'\n",
    "files1 = [prefix + f for f in ['params.sav','settings.txt']]\n",
    "prefix = path + '/' + version + '/' + 'vis_data' + '/' + obsid + '_'\n",
    "files2 = [prefix + f for f in ['flags.sav','vis_XX.sav','vis_YY.sav','vis_model_XX.sav','vis_model_YY.sav']]\n",
    "files = np.append(files1, files2)"
   ]
  },
  {
   "cell_type": "code",
   "execution_count": 6,
   "metadata": {},
   "outputs": [
    {
     "name": "stderr",
     "output_type": "stream",
     "text": [
      "antenna_diameters is not set. Using known values for HERA.\n"
     ]
    }
   ],
   "source": [
    "data = UVData()\n",
    "data.read_fhd(files)"
   ]
  },
  {
   "cell_type": "code",
   "execution_count": 7,
   "metadata": {},
   "outputs": [
    {
     "data": {
      "text/latex": [
       "$64^\\circ10{}^\\prime40.7388{}^{\\prime\\prime}$"
      ],
      "text/plain": [
       "<Angle 64.17798299 deg>"
      ]
     },
     "execution_count": 7,
     "metadata": {},
     "output_type": "execute_result"
    }
   ],
   "source": [
    "loc = EarthLocation.from_geocentric(*data.telescope_location, unit='m')\n",
    "obstime = Time(np.mean(data.time_array),format='jd')\n",
    "skycoord = SkyCoord(RA,DEC,unit='deg')\n",
    "\n",
    "altaz = skycoord.transform_to(AltAz(obstime=obstime, location=loc))\n",
    "zenith_altaz = SkyCoord(Angle(0, unit='deg'), Angle(90, unit='deg'), frame='altaz',obstime=obstime, location=loc)\n",
    "\n",
    "altaz.separation(zenith_altaz)"
   ]
  },
  {
   "cell_type": "code",
   "execution_count": 15,
   "metadata": {},
   "outputs": [
    {
     "name": "stdout",
     "output_type": "stream",
     "text": [
      "288d12m02.2829s\n",
      "1d00m00s\n"
     ]
    }
   ],
   "source": [
    "print(altaz.az)\n",
    "print(skycoord.ra)"
   ]
  },
  {
   "cell_type": "code",
   "execution_count": null,
   "metadata": {},
   "outputs": [],
   "source": []
  }
 ],
 "metadata": {
  "kernelspec": {
   "display_name": "Python 2",
   "language": "python",
   "name": "python2"
  },
  "language_info": {
   "codemirror_mode": {
    "name": "ipython",
    "version": 2
   },
   "file_extension": ".py",
   "mimetype": "text/x-python",
   "name": "python",
   "nbconvert_exporter": "python",
   "pygments_lexer": "ipython2",
   "version": "2.7.16"
  }
 },
 "nbformat": 4,
 "nbformat_minor": 2
}
