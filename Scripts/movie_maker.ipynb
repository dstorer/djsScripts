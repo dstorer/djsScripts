{
 "cells": [
  {
   "cell_type": "code",
   "execution_count": 1,
   "metadata": {
    "ExecuteTime": {
     "end_time": "2020-07-12T02:37:10.433967Z",
     "start_time": "2020-07-12T02:37:01.055259Z"
    }
   },
   "outputs": [],
   "source": [
    "import os, shutil\n",
    "import glob\n",
    "import numpy as np\n",
    "from hera_cal import apply_cal, io\n",
    "from pyuvdata import UVData\n",
    "from tqdm.notebook import tqdm\n",
    "import warnings\n",
    "from astropy.time import Time\n",
    "from astropy.io import fits\n",
    "from astropy import wcs\n",
    "from hera_cal.utils import polnum2str\n",
    "import matplotlib.pyplot as plt\n",
    "from matplotlib.animation import FuncAnimation\n",
    "from matplotlib.image import imread\n",
    "from IPython.display import HTML\n",
    "from IPython.display import Video\n",
    "%matplotlib inline"
   ]
  },
  {
   "cell_type": "code",
   "execution_count": 2,
   "metadata": {
    "ExecuteTime": {
     "end_time": "2020-07-12T02:37:10.440273Z",
     "start_time": "2020-07-12T02:37:10.436808Z"
    }
   },
   "outputs": [],
   "source": [
    "out_folder = '2458937_chunked_smooth_abs'"
   ]
  },
  {
   "cell_type": "code",
   "execution_count": 3,
   "metadata": {
    "ExecuteTime": {
     "end_time": "2020-07-12T02:37:11.107614Z",
     "start_time": "2020-07-12T02:37:10.443171Z"
    }
   },
   "outputs": [
    {
     "name": "stdout",
     "output_type": "stream",
     "text": [
      "310\n"
     ]
    }
   ],
   "source": [
    "stokes_I_frames = sorted(glob.glob(os.path.join(out_folder, '*_I.image.fits')))\n",
    "print(len(stokes_I_frames))"
   ]
  },
  {
   "cell_type": "markdown",
   "metadata": {},
   "source": [
    "# Build frames as images"
   ]
  },
  {
   "cell_type": "code",
   "execution_count": 4,
   "metadata": {
    "ExecuteTime": {
     "end_time": "2020-07-12T02:37:12.536441Z",
     "start_time": "2020-07-12T02:37:12.434220Z"
    }
   },
   "outputs": [],
   "source": [
    "def save_casa_image(image_fits, outpath, field=''):\n",
    "    \n",
    "    warnings.simplefilter(\"ignore\")\n",
    "    \n",
    "    if isinstance(image_fits,str):\n",
    "        image_fits = [image_fits]\n",
    "        \n",
    "    hdulists = [fits.open(imf) for imf in image_fits]\n",
    "    coords = wcs.WCS(hdulists[0][0].header, naxis=[wcs.WCSSUB_CELESTIAL])\n",
    "    images = [hdulist[0].data[0, i] for hdulist in hdulists for i in range(hdulist[0].data.shape[1])]\n",
    "    pols = [polnum2str(int(i * hdulist[0].header['CDELT3'] + hdulist[0].header['CRVAL3'])).replace('p', 'Pseudo-')\n",
    "            for hdulist in hdulists for i in range(hdulist[0].data.shape[1])]\n",
    "\n",
    "    fig, axes = plt.subplots(1, len(images), figsize=(6*len(images),6), dpi=100, subplot_kw={'projection': coords})\n",
    "    plt.subplots_adjust(hspace=0, wspace=.3)\n",
    "    for i, (ax, image, pol) in enumerate(zip(np.ravel(axes), images, pols)):\n",
    "        im = ax.imshow(image, cmap='inferno')\n",
    "        ax.grid()\n",
    "        plt.colorbar(im, ax=ax, label='Jy/Beam', fraction=0.046, pad=0.04)\n",
    "        props = dict(boxstyle='round', facecolor='white', alpha=0.8)\n",
    "        ax.text(0.05, 0.95, 'Stokes ' + pol, transform=ax.transAxes, fontsize=14, verticalalignment='top', bbox=props)\n",
    "    \n",
    "    if field.lower()=='gleam02':\n",
    "        for ax in plt.gcf().axes[0:3]:\n",
    "            ax.scatter([(2 + 0/60 + 12.7/3600)*360/24],[-30 - 53/60 - 27/3600], c='lime', marker='x', transform=ax.get_transform('icrs'))\n",
    "            ax.scatter([(1 + 50/60 + 35.72/3600)*360/24],[-29 - 31/60 - 58.7/3600], c='lime', marker='x',  transform=ax.get_transform('icrs'))\n",
    "    if field.lower()=='fornax':\n",
    "        for ax in plt.gcf().axes[0:3]:\n",
    "            ax.scatter([(3 + 22/60 + 41.7/3600)*360/24],[-37 - 12/60 - 30/3600], c='lime', marker='x',  transform=ax.get_transform('icrs'))\n",
    "    if field.upper()=='J1425-2959':\n",
    "        for ax in plt.gcf().axes[0:3]:\n",
    "            ax.scatter([(14 + 25/60 + 0/3600)*360/24], [-29 - 59/60 + 0/3600], c='lime', marker='x',  transform=ax.get_transform('icrs'))\n",
    "\n",
    "    plt.savefig(outpath, dpi=200)\n",
    "    plt.close()"
   ]
  },
  {
   "cell_type": "code",
   "execution_count": 5,
   "metadata": {
    "ExecuteTime": {
     "end_time": "2020-07-12T02:44:37.408964Z",
     "start_time": "2020-07-12T02:37:13.122381Z"
    },
    "scrolled": false
   },
   "outputs": [
    {
     "data": {
      "application/vnd.jupyter.widget-view+json": {
       "model_id": "9d3162f33d6a458c8dcac15e9207aac7",
       "version_major": 2,
       "version_minor": 0
      },
      "text/plain": [
       "HBox(children=(FloatProgress(value=0.0, max=310.0), HTML(value='')))"
      ]
     },
     "metadata": {},
     "output_type": "display_data"
    },
    {
     "name": "stdout",
     "output_type": "stream",
     "text": [
      "\n"
     ]
    }
   ],
   "source": [
    "for sI_frame in tqdm(stokes_I_frames):\n",
    "    save_casa_image([sI_frame, sI_frame.replace('_I.', '_XXYY.')], sI_frame.replace('_I.image.fits', '.png'))"
   ]
  },
  {
   "cell_type": "markdown",
   "metadata": {},
   "source": [
    "# Turn into movie"
   ]
  },
  {
   "cell_type": "code",
   "execution_count": 6,
   "metadata": {
    "ExecuteTime": {
     "end_time": "2020-07-12T02:45:08.285223Z",
     "start_time": "2020-07-12T02:44:37.410909Z"
    }
   },
   "outputs": [
    {
     "data": {
      "text/plain": [
       "0"
      ]
     },
     "execution_count": 6,
     "metadata": {},
     "output_type": "execute_result"
    }
   ],
   "source": [
    "outmovie = f\"{os.path.join(out_folder, out_folder.split('/')[-1])}.mp4\"\n",
    "command = f\"ffmpeg -f image2 -pattern_type glob -framerate 12 -y -i '{os.path.join(out_folder,'*.png')}' {outmovie}\"\n",
    "os.system(command)"
   ]
  },
  {
   "cell_type": "markdown",
   "metadata": {},
   "source": [
    "# Play movie"
   ]
  },
  {
   "cell_type": "code",
   "execution_count": 7,
   "metadata": {
    "ExecuteTime": {
     "end_time": "2020-07-12T02:45:08.295655Z",
     "start_time": "2020-07-12T02:45:08.288553Z"
    }
   },
   "outputs": [
    {
     "name": "stdout",
     "output_type": "stream",
     "text": [
      "2458937_chunked_smooth_abs/2458937_chunked_smooth_abs.mp4\n"
     ]
    },
    {
     "data": {
      "text/html": [
       "<video src=\"2458937_chunked_smooth_abs/2458937_chunked_smooth_abs.mp4\" controls loop autoplay  width=\"1600\" >\n",
       "      Your browser does not support the <code>video</code> element.\n",
       "    </video>"
      ],
      "text/plain": [
       "<IPython.core.display.Video object>"
      ]
     },
     "execution_count": 7,
     "metadata": {},
     "output_type": "execute_result"
    }
   ],
   "source": [
    "print(outmovie)\n",
    "Video(outmovie, width=1600, html_attributes='controls loop autoplay')"
   ]
  },
  {
   "cell_type": "code",
   "execution_count": 8,
   "metadata": {
    "ExecuteTime": {
     "end_time": "2020-07-12T02:45:08.320694Z",
     "start_time": "2020-07-12T02:45:08.297984Z"
    }
   },
   "outputs": [
    {
     "data": {
      "text/html": [
       "<video src=\"2458937_chunked_smooth_abs/2458937_chunked_smooth_abs.mp4\" controls loop autoplay  width=\"1600\" >\n",
       "      Your browser does not support the <code>video</code> element.\n",
       "    </video>"
      ],
      "text/plain": [
       "<IPython.core.display.Video object>"
      ]
     },
     "execution_count": 8,
     "metadata": {},
     "output_type": "execute_result"
    }
   ],
   "source": [
    "Video('2458937_chunked_smooth_abs/2458937_chunked_smooth_abs.mp4', width=1600, html_attributes='controls loop autoplay')"
   ]
  },
  {
   "cell_type": "code",
   "execution_count": 8,
   "metadata": {
    "ExecuteTime": {
     "end_time": "2020-07-11T17:04:49.648817Z",
     "start_time": "2020-07-11T17:04:49.641613Z"
    }
   },
   "outputs": [
    {
     "data": {
      "text/html": [
       "<video src=\"2458838_chunked_smooth_abs/2458838_chunked_smooth_abs.mp4\" controls loop autoplay  width=\"1600\" >\n",
       "      Your browser does not support the <code>video</code> element.\n",
       "    </video>"
      ],
      "text/plain": [
       "<IPython.core.display.Video object>"
      ]
     },
     "execution_count": 8,
     "metadata": {},
     "output_type": "execute_result"
    }
   ],
   "source": [
    "Video('2458838_chunked_smooth_abs/2458838_chunked_smooth_abs.mp4', width=1600, html_attributes='controls loop autoplay')"
   ]
  },
  {
   "cell_type": "code",
   "execution_count": 46,
   "metadata": {
    "ExecuteTime": {
     "end_time": "2020-05-30T18:24:24.777057Z",
     "start_time": "2020-05-30T18:24:24.770918Z"
    }
   },
   "outputs": [
    {
     "name": "stdout",
     "output_type": "stream",
     "text": [
      "2458838_chunked_smooth_abs/2458838_chunked_smooth_abs.mp4\n"
     ]
    },
    {
     "data": {
      "text/html": [
       "<video src=\"2458838_chunked_conj_smooth_abs_unconj/2458838_chunked_conj_smooth_abs_unconj.mp4\" controls loop autoplay  width=\"1600\" >\n",
       "      Your browser does not support the <code>video</code> element.\n",
       "    </video>"
      ],
      "text/plain": [
       "<IPython.core.display.Video object>"
      ]
     },
     "execution_count": 46,
     "metadata": {},
     "output_type": "execute_result"
    }
   ],
   "source": [
    "Video('2458838_chunked_conj_smooth_abs_unconj/2458838_chunked_conj_smooth_abs_unconj.mp4', width=1600, html_attributes='controls loop autoplay')"
   ]
  },
  {
   "cell_type": "code",
   "execution_count": 19,
   "metadata": {
    "ExecuteTime": {
     "end_time": "2020-05-30T07:50:18.935127Z",
     "start_time": "2020-05-30T07:50:18.930249Z"
    }
   },
   "outputs": [
    {
     "data": {
      "text/html": [
       "<video src=\"2458838_chunked_conj_raw/2458838_chunked_conj_raw.mp4\" controls loop autoplay  width=\"1600\" >\n",
       "      Your browser does not support the <code>video</code> element.\n",
       "    </video>"
      ],
      "text/plain": [
       "<IPython.core.display.Video object>"
      ]
     },
     "execution_count": 19,
     "metadata": {},
     "output_type": "execute_result"
    }
   ],
   "source": [
    "Video('2458838_chunked_conj_raw/2458838_chunked_conj_raw.mp4', width=1600, html_attributes='controls loop autoplay')"
   ]
  },
  {
   "cell_type": "code",
   "execution_count": 69,
   "metadata": {
    "ExecuteTime": {
     "end_time": "2020-05-29T16:45:56.514567Z",
     "start_time": "2020-05-29T16:45:56.508485Z"
    }
   },
   "outputs": [
    {
     "data": {
      "text/html": [
       "<video src=\"2458937_raw/2458937_raw.mp4\" controls loop autoplay  width=\"1600\" >\n",
       "      Your browser does not support the <code>video</code> element.\n",
       "    </video>"
      ],
      "text/plain": [
       "<IPython.core.display.Video object>"
      ]
     },
     "execution_count": 69,
     "metadata": {},
     "output_type": "execute_result"
    }
   ],
   "source": [
    "Video('2458937_raw/2458937_raw.mp4', width=1600, html_attributes='controls loop autoplay')"
   ]
  },
  {
   "cell_type": "code",
   "execution_count": 70,
   "metadata": {
    "ExecuteTime": {
     "end_time": "2020-05-29T16:45:56.685095Z",
     "start_time": "2020-05-29T16:45:56.678656Z"
    }
   },
   "outputs": [
    {
     "data": {
      "text/html": [
       "<video src=\"2458792_raw/2458792_raw.mp4\" controls loop autoplay  width=\"1600\" >\n",
       "      Your browser does not support the <code>video</code> element.\n",
       "    </video>"
      ],
      "text/plain": [
       "<IPython.core.display.Video object>"
      ]
     },
     "execution_count": 70,
     "metadata": {},
     "output_type": "execute_result"
    }
   ],
   "source": [
    "Video('2458792_raw/2458792_raw.mp4', width=1600, html_attributes='controls loop autoplay')"
   ]
  },
  {
   "cell_type": "code",
   "execution_count": 71,
   "metadata": {
    "ExecuteTime": {
     "end_time": "2020-05-29T16:45:56.877405Z",
     "start_time": "2020-05-29T16:45:56.871295Z"
    }
   },
   "outputs": [
    {
     "data": {
      "text/html": [
       "<video src=\"2458769_raw/2458769_raw.mp4\" controls loop autoplay  width=\"1600\" >\n",
       "      Your browser does not support the <code>video</code> element.\n",
       "    </video>"
      ],
      "text/plain": [
       "<IPython.core.display.Video object>"
      ]
     },
     "execution_count": 71,
     "metadata": {},
     "output_type": "execute_result"
    }
   ],
   "source": [
    "Video('2458769_raw/2458769_raw.mp4', width=1600, html_attributes='controls loop autoplay')"
   ]
  },
  {
   "cell_type": "code",
   "execution_count": 72,
   "metadata": {
    "ExecuteTime": {
     "end_time": "2020-05-29T16:45:56.998905Z",
     "start_time": "2020-05-29T16:45:56.992910Z"
    }
   },
   "outputs": [
    {
     "data": {
      "text/html": [
       "<video src=\"2458098_smooth_cal/2458098_smooth_cal.mp4\" controls loop autoplay  width=\"1600\" >\n",
       "      Your browser does not support the <code>video</code> element.\n",
       "    </video>"
      ],
      "text/plain": [
       "<IPython.core.display.Video object>"
      ]
     },
     "execution_count": 72,
     "metadata": {},
     "output_type": "execute_result"
    }
   ],
   "source": [
    "Video('2458098_smooth_cal/2458098_smooth_cal.mp4', width=1600, html_attributes='controls loop autoplay')"
   ]
  },
  {
   "cell_type": "code",
   "execution_count": 73,
   "metadata": {
    "ExecuteTime": {
     "end_time": "2020-05-29T16:45:57.150037Z",
     "start_time": "2020-05-29T16:45:57.143868Z"
    }
   },
   "outputs": [
    {
     "data": {
      "text/html": [
       "<video src=\"2458838_redcal/2458838_redcal.mp4\" controls loop autoplay  width=\"1600\" >\n",
       "      Your browser does not support the <code>video</code> element.\n",
       "    </video>"
      ],
      "text/plain": [
       "<IPython.core.display.Video object>"
      ]
     },
     "execution_count": 73,
     "metadata": {},
     "output_type": "execute_result"
    }
   ],
   "source": [
    "Video('2458838_redcal/2458838_redcal.mp4', width=1600, html_attributes='controls loop autoplay')"
   ]
  },
  {
   "cell_type": "code",
   "execution_count": 74,
   "metadata": {
    "ExecuteTime": {
     "end_time": "2020-05-29T16:45:57.309471Z",
     "start_time": "2020-05-29T16:45:57.303344Z"
    }
   },
   "outputs": [
    {
     "data": {
      "text/html": [
       "<video src=\"2458838_raw/2458838_raw.mp4\" controls loop autoplay  width=\"1600\" >\n",
       "      Your browser does not support the <code>video</code> element.\n",
       "    </video>"
      ],
      "text/plain": [
       "<IPython.core.display.Video object>"
      ]
     },
     "execution_count": 74,
     "metadata": {},
     "output_type": "execute_result"
    }
   ],
   "source": [
    "Video('2458838_raw/2458838_raw.mp4', width=1600, html_attributes='controls loop autoplay')"
   ]
  },
  {
   "cell_type": "code",
   "execution_count": 75,
   "metadata": {
    "ExecuteTime": {
     "end_time": "2020-05-29T16:45:57.506186Z",
     "start_time": "2020-05-29T16:45:57.471995Z"
    },
    "scrolled": false
   },
   "outputs": [
    {
     "data": {
      "text/html": [
       "<video src=\"2458838_smooth_cal_blacklisting/2458838_smooth_cal_blacklisting.mp4\" controls loop autoplay  width=\"1600\" >\n",
       "      Your browser does not support the <code>video</code> element.\n",
       "    </video>"
      ],
      "text/plain": [
       "<IPython.core.display.Video object>"
      ]
     },
     "execution_count": 75,
     "metadata": {},
     "output_type": "execute_result"
    }
   ],
   "source": [
    "Video('2458838_smooth_cal_blacklisting/2458838_smooth_cal_blacklisting.mp4', width=1600, html_attributes='controls loop autoplay')"
   ]
  },
  {
   "cell_type": "code",
   "execution_count": 76,
   "metadata": {
    "ExecuteTime": {
     "end_time": "2020-05-29T16:45:57.630188Z",
     "start_time": "2020-05-29T16:45:57.623790Z"
    }
   },
   "outputs": [
    {
     "data": {
      "text/html": [
       "<video src=\"2458838_flagged_abs/2458838_flagged_abs.mp4\" controls loop autoplay  width=\"1600\" >\n",
       "      Your browser does not support the <code>video</code> element.\n",
       "    </video>"
      ],
      "text/plain": [
       "<IPython.core.display.Video object>"
      ]
     },
     "execution_count": 76,
     "metadata": {},
     "output_type": "execute_result"
    }
   ],
   "source": [
    "Video('2458838_flagged_abs/2458838_flagged_abs.mp4', width=1600, html_attributes='controls loop autoplay')"
   ]
  },
  {
   "cell_type": "code",
   "execution_count": 77,
   "metadata": {
    "ExecuteTime": {
     "end_time": "2020-05-29T16:45:57.801521Z",
     "start_time": "2020-05-29T16:45:57.772608Z"
    },
    "scrolled": false
   },
   "outputs": [
    {
     "data": {
      "text/html": [
       "<video src=\"RIMEz/RIMEz.mp4\" controls loop autoplay  width=\"1600\" >\n",
       "      Your browser does not support the <code>video</code> element.\n",
       "    </video>"
      ],
      "text/plain": [
       "<IPython.core.display.Video object>"
      ]
     },
     "execution_count": 77,
     "metadata": {},
     "output_type": "execute_result"
    }
   ],
   "source": [
    "Video('RIMEz/RIMEz.mp4', width=1600, html_attributes='controls loop autoplay')"
   ]
  },
  {
   "cell_type": "code",
   "execution_count": 39,
   "metadata": {
    "ExecuteTime": {
     "end_time": "2020-05-30T18:16:38.419417Z",
     "start_time": "2020-05-30T18:16:38.380228Z"
    }
   },
   "outputs": [
    {
     "ename": "ValueError",
     "evalue": "To embed videos, you must pass embed=True (this may make your notebook files huge)\nConsider passing Video(url='...')",
     "output_type": "error",
     "traceback": [
      "\u001b[0;31m---------------------------------------------------------------------------\u001b[0m",
      "\u001b[0;31mValueError\u001b[0m                                Traceback (most recent call last)",
      "\u001b[0;32m<ipython-input-39-f8d0e73650d7>\u001b[0m in \u001b[0;36m<module>\u001b[0;34m\u001b[0m\n\u001b[0;32m----> 1\u001b[0;31m \u001b[0mVideo\u001b[0m\u001b[0;34m(\u001b[0m\u001b[0;34m'2458838_chunked_smooth_abs/2458838_chunked_smooth_abs.mp4'\u001b[0m\u001b[0;34m,\u001b[0m \u001b[0mwidth\u001b[0m\u001b[0;34m=\u001b[0m\u001b[0;36m1600\u001b[0m\u001b[0;34m,\u001b[0m \u001b[0mhtml_attributes\u001b[0m\u001b[0;34m=\u001b[0m\u001b[0;34m'controls loop autoplay'\u001b[0m\u001b[0;34m)\u001b[0m\u001b[0;34m\u001b[0m\u001b[0;34m\u001b[0m\u001b[0m\n\u001b[0m",
      "\u001b[0;32m~/anaconda3/envs/python3/lib/python3.7/site-packages/IPython/core/display.py\u001b[0m in \u001b[0;36m__init__\u001b[0;34m(self, data, url, filename, embed, mimetype, width, height, html_attributes)\u001b[0m\n\u001b[1;32m   1401\u001b[0m                 \u001b[0;34m\"Consider passing Video(url='...')\"\u001b[0m\u001b[0;34m,\u001b[0m\u001b[0;34m\u001b[0m\u001b[0;34m\u001b[0m\u001b[0m\n\u001b[1;32m   1402\u001b[0m             ])\n\u001b[0;32m-> 1403\u001b[0;31m             \u001b[0;32mraise\u001b[0m \u001b[0mValueError\u001b[0m\u001b[0;34m(\u001b[0m\u001b[0mmsg\u001b[0m\u001b[0;34m)\u001b[0m\u001b[0;34m\u001b[0m\u001b[0;34m\u001b[0m\u001b[0m\n\u001b[0m\u001b[1;32m   1404\u001b[0m \u001b[0;34m\u001b[0m\u001b[0m\n\u001b[1;32m   1405\u001b[0m         \u001b[0mself\u001b[0m\u001b[0;34m.\u001b[0m\u001b[0mmimetype\u001b[0m \u001b[0;34m=\u001b[0m \u001b[0mmimetype\u001b[0m\u001b[0;34m\u001b[0m\u001b[0;34m\u001b[0m\u001b[0m\n",
      "\u001b[0;31mValueError\u001b[0m: To embed videos, you must pass embed=True (this may make your notebook files huge)\nConsider passing Video(url='...')"
     ]
    }
   ],
   "source": [
    "Video('2458838_chunked_smooth_abs/2458838_chunked_smooth_abs.mp4', width=1600, html_attributes='controls loop autoplay')"
   ]
  },
  {
   "cell_type": "code",
   "execution_count": null,
   "metadata": {},
   "outputs": [],
   "source": []
  },
  {
   "cell_type": "code",
   "execution_count": null,
   "metadata": {},
   "outputs": [],
   "source": []
  },
  {
   "cell_type": "code",
   "execution_count": null,
   "metadata": {},
   "outputs": [],
   "source": []
  },
  {
   "cell_type": "code",
   "execution_count": null,
   "metadata": {},
   "outputs": [],
   "source": []
  },
  {
   "cell_type": "code",
   "execution_count": null,
   "metadata": {},
   "outputs": [],
   "source": []
  },
  {
   "cell_type": "code",
   "execution_count": null,
   "metadata": {},
   "outputs": [],
   "source": []
  }
 ],
 "metadata": {
  "kernelspec": {
   "display_name": "Python 3",
   "language": "python",
   "name": "python3"
  },
  "language_info": {
   "codemirror_mode": {
    "name": "ipython",
    "version": 3
   },
   "file_extension": ".py",
   "mimetype": "text/x-python",
   "name": "python",
   "nbconvert_exporter": "python",
   "pygments_lexer": "ipython3",
   "version": "3.7.7"
  },
  "toc": {
   "base_numbering": 1,
   "nav_menu": {},
   "number_sections": true,
   "sideBar": true,
   "skip_h1_title": false,
   "title_cell": "Table of Contents",
   "title_sidebar": "Contents",
   "toc_cell": false,
   "toc_position": {},
   "toc_section_display": true,
   "toc_window_display": false
  }
 },
 "nbformat": 4,
 "nbformat_minor": 2
}
