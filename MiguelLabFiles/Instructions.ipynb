{
 "cells": [
  {
   "cell_type": "markdown",
   "metadata": {},
   "source": [
    "# The Instrument"
   ]
  },
  {
   "cell_type": "markdown",
   "metadata": {},
   "source": [
    "The data you will be working with here was collected by the Hydrogen Epoch of Reionization Array (HERA), a radio interferometer located in South Africa. For general information about HERA, you can visit their website at https://reionization.org/. More detailed information about the telescope design can be found in this paper: https://arxiv.org/pdf/1606.07473.pdf. (You don't need to read this whole paper, only use it if you are hunting for particular information you think will be useful). Some terms that might be useful:"
   ]
  },
  {
   "cell_type": "markdown",
   "metadata": {},
   "source": [
    "##### Interferometer"
   ]
  },
  {
   "cell_type": "markdown",
   "metadata": {},
   "source": [
    "Interferometers (as opposed to “single dish”\n",
    "radio telescopes) consist of a large number of antennas which are connected to\n",
    "a central (super-)computer called a correlator. The job of the correlator is to\n",
    "take the signal from every antenna and correlate it with the signal from every\n",
    "other antenna. So, for example, an array with 128 independent antennas will\n",
    "produce 8,128 independent correlations.\n",
    "\n",
    "A principal advantage of interferometers is that they can make high reso-\n",
    "lution images over a large area of the sky. For a single dish telescope, both\n",
    "the resolution and the field of view (i.e. how much of the sky the telescope is\n",
    "sensitive to at any given time) are the same — i.e. a single dish telescope can\n",
    "be thought of as a single pixel camera. To make images, a single dish scans\n",
    "its one pixel across the sky. For an interferometer, however, the resolution is\n",
    "effectively set by the largest antenna separation, while the field of view is set by\n",
    "the size of any single antenna in the array. So for example, an interferometer\n",
    "300 meters across, with individual antenna elements 10 meters in size, has the\n",
    "same resolution as a 300 meter single dish telescope — but a field of view 900 times bigger!\n",
    "\n",
    "For HERA, the dishes are arranged in hexagonal arrays - see https://reionization.org/science/technical-design/ for images/visualization of this."
   ]
  },
  {
   "cell_type": "markdown",
   "metadata": {},
   "source": [
    "##### Baseline"
   ]
  },
  {
   "cell_type": "markdown",
   "metadata": {},
   "source": [
    "A baseline refers to a pair of dishes. The length and orientation of a baseline is given by the separation vector between the two dishes. "
   ]
  },
  {
   "cell_type": "markdown",
   "metadata": {},
   "source": [
    "##### Visibility"
   ]
  },
  {
   "cell_type": "markdown",
   "metadata": {},
   "source": [
    "A visibility is the actual data product we will look at. Visibilities essentially a measure of the response of a particular baseline to incoming radiation from the sky. So, our final data product will contain a measurement of the visibility for each baseline in the array. Note: the visibilities are imaginary numbers - you may want to think about the best way to deal with that."
   ]
  },
  {
   "cell_type": "markdown",
   "metadata": {},
   "source": [
    "### Some more useful info"
   ]
  },
  {
   "cell_type": "markdown",
   "metadata": {},
   "source": [
    "HERA collects data between 100Mhz and 200Mhz, and for four different polarizations (XX, YY, XY, YX). Therefore, the data product you look at will contain visibilities for each baseline, frequency, polarization, and time. The files uploaded here are only a small portion of a night, so the time axis won't be tremendously long. One particularly useful aspect of the data is that we expect sky signals to be quite steady in time (no rapid changes) - keep this in mind when you are hunting for non-sky effects!\n",
    "\n",
    "If the above definitions are confusing, or you'd like to find more information on interferometry, there is a textbook on the subject available here: http://www.phys.unm.edu/~gbtaylor/astr423/s98book.pdf. This book goes in much more depth than you need, and is a little outdated in some areas. However, the beginning of Lecture 2 might be a helpful introduction, and you can use the index to search for a particular term that might confuse you."
   ]
  },
  {
   "cell_type": "markdown",
   "metadata": {},
   "source": [
    "# Reading the Data"
   ]
  },
  {
   "cell_type": "markdown",
   "metadata": {},
   "source": [
    "The easiest way to read these data files will be to use the software package pyuvdata. Start by getting pyuvdata working on your computer. You can install using either conda or pip:\n",
    "\n",
    "'conda install -c conda-forge pyuvdata'\n",
    "    or\n",
    "'pip install pyuvdata'\n",
    "\n",
    "If you have trouble with this installation, more instructions can be found at https://github.com/RadioAstronomySoftwareGroup/pyuvdata. Below is some sample code for reading files into pyuvdata and accessing the data. If you are looking for additional functionality, the full documentation for pyuvdata can be found at https://pyuvdata.readthedocs.io/en/latest/tutorial.html. This includes lots of functionality that doesn't apply to you, so don't spend too much time digging into this. However, there are some examples in the tutorial section that you might find helpful."
   ]
  },
  {
   "cell_type": "code",
   "execution_count": 1,
   "metadata": {},
   "outputs": [],
   "source": [
    "from pyuvdata import UVData\n",
    "import numpy as np\n",
    "from matplotlib import pyplot as plt"
   ]
  },
  {
   "cell_type": "code",
   "execution_count": 26,
   "metadata": {},
   "outputs": [
    {
     "name": "stdout",
     "output_type": "stream",
     "text": [
      "This data array has shape:\n",
      "(# baselines*times, # spectral windows, # frequencies (Hz), # polarizations)\n",
      "(82680, 1, 1024, 4)\n"
     ]
    }
   ],
   "source": [
    "uv = UVData()\n",
    "uv.read('/lustre/aoc/projects/hera/H1C_IDR2/IDR2_2/2458108/zen.2458108.57290.HH.uvh5')\n",
    "data = uv.data_array\n",
    "print('This data array has shape:')\n",
    "print('(# baselines*times, # spectral windows, # frequencies (Hz), # polarizations)')\n",
    "print(np.shape(data))"
   ]
  },
  {
   "cell_type": "markdown",
   "metadata": {},
   "source": [
    "This data array is your desired data product - it contains the visibilities collected by the array. NOTE: Don't worry about what '# spectral windows' means. This axis should only have length 1 for your data.\n",
    "\n",
    "Now, Suppose you want to look at only a small chunk of the data. Pick your two favorite antennas and a polarization, and then you can extract the data as such:"
   ]
  },
  {
   "cell_type": "code",
   "execution_count": 27,
   "metadata": {},
   "outputs": [
    {
     "name": "stdout",
     "output_type": "stream",
     "text": [
      "[136 140 121  88  41  86  36  51  50  98 123 124  65 137  82 120 143  66\n",
      "  83 122  67  68  69  70  71  85   0   1  11  12  13  14   2  23  24  25\n",
      "  26  27  37  38  39  40  52  53  54  55  84  87 141 138 142 139]\n"
     ]
    }
   ],
   "source": [
    "# Look at the antennas that are contained in the array:\n",
    "print(uv.antenna_numbers)\n",
    "# Pick 2 sample antennas, and get data from that baseline, for a specified polarization\n",
    "antenna1 = 140\n",
    "antenna2 = 23\n",
    "polarization='XX'\n",
    "data = uv.get_data(antenna1,antenna2,polarization)"
   ]
  },
  {
   "cell_type": "markdown",
   "metadata": {},
   "source": [
    "There are many ways you can inspect this data, and many types of plots you could utilize. As an example, below is some sample code that will create a 'waterfall plot' for a particular baseline. (A waterfall plot is one that shows evolution in time)"
   ]
  },
  {
   "cell_type": "code",
   "execution_count": 28,
   "metadata": {},
   "outputs": [
    {
     "data": {
      "text/plain": [
       "Text(0.5, 0, 'Frequency')"
      ]
     },
     "execution_count": 28,
     "metadata": {},
     "output_type": "execute_result"
    },
    {
     "data": {
      "image/png": "[encoded data removed]",
      "text/plain": [
       "<Figure size 864x432 with 2 Axes>"
      ]
     },
     "metadata": {
      "needs_background": "light"
     },
     "output_type": "display_data"
    }
   ],
   "source": [
    "fig, axs = plt.subplots(1,1,figsize=(12,6))\n",
    "im = plt.imshow(np.abs(data),aspect='auto')\n",
    "cbar = fig.colorbar(im)\n",
    "axs.set_ylabel('Time')\n",
    "axs.set_xlabel('Frequency')"
   ]
  },
  {
   "cell_type": "markdown",
   "metadata": {},
   "source": [
    "Note: You "
   ]
  },
  {
   "cell_type": "markdown",
   "metadata": {},
   "source": [
    "### Working in Matlab"
   ]
  },
  {
   "cell_type": "markdown",
   "metadata": {},
   "source": [
    "It will be easiest to process this data directly in python, but you can do it in Matlab instead if you wish. You will still want to read in the data with pyuvdata in python, and then transfer the resulting data array to Matlab. There are many ways you can do this, the simplest of which is:"
   ]
  },
  {
   "cell_type": "code",
   "execution_count": 12,
   "metadata": {},
   "outputs": [],
   "source": [
    "import scipy.io\n",
    "scipy.io.savemat('data.mat', dict(data=data))"
   ]
  },
  {
   "cell_type": "code",
   "execution_count": null,
   "metadata": {},
   "outputs": [],
   "source": []
  }
 ],
 "metadata": {
  "kernelspec": {
   "display_name": "Python 3",
   "language": "python",
   "name": "python3"
  },
  "language_info": {
   "codemirror_mode": {
    "name": "ipython",
    "version": 3
   },
   "file_extension": ".py",
   "mimetype": "text/x-python",
   "name": "python",
   "nbconvert_exporter": "python",
   "pygments_lexer": "ipython3",
   "version": "3.7.4"
  }
 },
 "nbformat": 4,
 "nbformat_minor": 2
}
