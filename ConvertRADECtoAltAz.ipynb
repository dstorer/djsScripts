{
 "cells": [
  {
   "cell_type": "code",
   "execution_count": 23,
   "metadata": {},
   "outputs": [],
   "source": [
    "from astropy.io import fits\n",
    "from pyuvdata import UVData\n",
    "import numpy as np\n",
    "import math\n",
    "import scipy.io\n",
    "from astropy.coordinates import EarthLocation, SkyCoord, AltAz, Angle\n",
    "from astropy.time import Time"
   ]
  },
  {
   "cell_type": "code",
   "execution_count": 24,
   "metadata": {},
   "outputs": [],
   "source": [
    "path = '/Users/dstorer/Files/FHD_Pyuvsim_comp/TestingSuite/fhd_djs_simComp_zenith_gauss_adjustedFWHM_Aug2019/'\n",
    "filename = path + 'output_data/' + 'pixel_coordinates'\n",
    "uvname = path + 'FHD_Output_zenith.uvfits'\n",
    "data = UVData()\n",
    "data.read(uvname)"
   ]
  },
  {
   "cell_type": "code",
   "execution_count": 25,
   "metadata": {
    "scrolled": false
   },
   "outputs": [],
   "source": [
    "loc = EarthLocation.from_geocentric(*data.telescope_location, unit='m')\n",
    "obstime = Time(np.mean(data.time_array),format='jd')\n",
    "i = -1\n",
    "outpath = filename + '_AltAz' + '.txt'\n",
    "with open(outpath, 'w+') as outfile:\n",
    "    outfile.write('Alt, Az (deg)\\n')\n",
    "    with open(filename + '.txt', 'r') as f:\n",
    "        for line in f:\n",
    "            i = i + 1\n",
    "            if i == 0:\n",
    "                continue\n",
    "            RA = line.split()[0]\n",
    "            DEC = line.split()[1]\n",
    "            skycoord = SkyCoord(RA,DEC,unit='deg')\n",
    "            altaz = skycoord.transform_to(AltAz(obstime=obstime, location=loc)) \n",
    "            outstr = str(altaz.alt.degree) + ',' + str(altaz.az.degree)\n",
    "            outfile.write(outstr + '\\n')"
   ]
  },
  {
   "cell_type": "code",
   "execution_count": null,
   "metadata": {},
   "outputs": [],
   "source": []
  }
 ],
 "metadata": {
  "kernelspec": {
   "display_name": "Python 2",
   "language": "python",
   "name": "python2"
  },
  "language_info": {
   "codemirror_mode": {
    "name": "ipython",
    "version": 2
   },
   "file_extension": ".py",
   "mimetype": "text/x-python",
   "name": "python",
   "nbconvert_exporter": "python",
   "pygments_lexer": "ipython2",
   "version": "2.7.16"
  }
 },
 "nbformat": 4,
 "nbformat_minor": 2
}
