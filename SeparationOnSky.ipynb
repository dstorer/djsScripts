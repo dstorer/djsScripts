{
 "cells": [
  {
   "cell_type": "code",
   "execution_count": 2,
   "metadata": {},
   "outputs": [],
   "source": [
    "from astropy.io import fits\n",
    "from pyuvdata import UVData\n",
    "import numpy as np\n",
    "import math\n",
    "import scipy.io\n",
    "from astropy.coordinates import EarthLocation, SkyCoord, AltAz, Angle\n",
    "from astropy.time import Time"
   ]
  },
  {
   "cell_type": "code",
   "execution_count": 8,
   "metadata": {},
   "outputs": [
    {
     "name": "stdout",
     "output_type": "stream",
     "text": [
      "['/Users/dstorer/Files/hera_FHD_results/ssinsFlagged/fhd_ssinsFlaggedHeraDataJoshSettingsJuly2019_2/metadatazen.2458098.37904.HH_2_params.sav'\n",
      " '/Users/dstorer/Files/hera_FHD_results/ssinsFlagged/fhd_ssinsFlaggedHeraDataJoshSettingsJuly2019_2/metadatazen.2458098.37904.HH_2_settings.txt'\n",
      " '/Users/dstorer/Files/hera_FHD_results/ssinsFlagged/fhd_ssinsFlaggedHeraDataJoshSettingsJuly2019_2/vis_datazen.2458098.37904.HH_2_flags.sav'\n",
      " '/Users/dstorer/Files/hera_FHD_results/ssinsFlagged/fhd_ssinsFlaggedHeraDataJoshSettingsJuly2019_2/vis_datazen.2458098.37904.HH_2_vis_XX.sav'\n",
      " '/Users/dstorer/Files/hera_FHD_results/ssinsFlagged/fhd_ssinsFlaggedHeraDataJoshSettingsJuly2019_2/vis_datazen.2458098.37904.HH_2_vis_YY.sav'\n",
      " '/Users/dstorer/Files/hera_FHD_results/ssinsFlagged/fhd_ssinsFlaggedHeraDataJoshSettingsJuly2019_2/vis_datazen.2458098.37904.HH_2_vis_model_XX.sav'\n",
      " '/Users/dstorer/Files/hera_FHD_results/ssinsFlagged/fhd_ssinsFlaggedHeraDataJoshSettingsJuly2019_2/vis_datazen.2458098.37904.HH_2_vis_model_YY.sav']\n"
     ]
    }
   ],
   "source": [
    "path = \"/Users/dstorer/Files/hera_FHD_results/ssinsFlagged\"\n",
    "version = \"fhd_ssinsFlaggedHeraDataJoshSettingsJuly2019_2\"\n",
    "obsid = \"zen.2458098.37904.HH_2\"\n",
    "RA = 1\n",
    "DEC = 1\n",
    "\n",
    "prefix = path + '/' + version + '/' + 'metadata' + obsid + '_'\n",
    "files1 = [prefix + f for f in ['params.sav','settings.txt']]\n",
    "prefix = path + '/' + version + '/' + 'vis_data' + obsid + '_'\n",
    "files2 = [prefix + f for f in ['flags.sav','vis_XX.sav','vis_YY.sav','vis_model_XX.sav','vis_model_YY.sav']]\n",
    "files = np.append(files1, files2)"
   ]
  },
  {
   "cell_type": "code",
   "execution_count": null,
   "metadata": {},
   "outputs": [],
   "source": [
    "data = UVData()\n",
    "data.read_fhd(files)"
   ]
  },
  {
   "cell_type": "code",
   "execution_count": 9,
   "metadata": {},
   "outputs": [
    {
     "ename": "NameError",
     "evalue": "name 'dirty' is not defined",
     "output_type": "error",
     "traceback": [
      "\u001b[0;31m---------------------------------------------------------------------------\u001b[0m",
      "\u001b[0;31mNameError\u001b[0m                                 Traceback (most recent call last)",
      "\u001b[0;32m<ipython-input-9-0df5421fdf0c>\u001b[0m in \u001b[0;36m<module>\u001b[0;34m()\u001b[0m\n\u001b[0;32m----> 1\u001b[0;31m \u001b[0mloc\u001b[0m \u001b[0;34m=\u001b[0m \u001b[0mEarthLocation\u001b[0m\u001b[0;34m.\u001b[0m\u001b[0mfrom_geocentric\u001b[0m\u001b[0;34m(\u001b[0m\u001b[0;34m*\u001b[0m\u001b[0mdirty\u001b[0m\u001b[0;34m.\u001b[0m\u001b[0mtelescope_location\u001b[0m\u001b[0;34m,\u001b[0m \u001b[0munit\u001b[0m\u001b[0;34m=\u001b[0m\u001b[0;34m'm'\u001b[0m\u001b[0;34m)\u001b[0m\u001b[0;34m\u001b[0m\u001b[0m\n\u001b[0m\u001b[1;32m      2\u001b[0m \u001b[0mobstime\u001b[0m \u001b[0;34m=\u001b[0m \u001b[0mTime\u001b[0m\u001b[0;34m(\u001b[0m\u001b[0mnp\u001b[0m\u001b[0;34m.\u001b[0m\u001b[0mmean\u001b[0m\u001b[0;34m(\u001b[0m\u001b[0mdirty\u001b[0m\u001b[0;34m.\u001b[0m\u001b[0mtime_array\u001b[0m\u001b[0;34m)\u001b[0m\u001b[0;34m,\u001b[0m\u001b[0mformat\u001b[0m\u001b[0;34m=\u001b[0m\u001b[0;34m'jd'\u001b[0m\u001b[0;34m)\u001b[0m\u001b[0;34m\u001b[0m\u001b[0m\n\u001b[1;32m      3\u001b[0m \u001b[0mskycoord\u001b[0m \u001b[0;34m=\u001b[0m \u001b[0mSkyCoord\u001b[0m\u001b[0;34m(\u001b[0m\u001b[0mRA\u001b[0m\u001b[0;34m,\u001b[0m\u001b[0mDEC\u001b[0m\u001b[0;34m,\u001b[0m\u001b[0munit\u001b[0m\u001b[0;34m=\u001b[0m\u001b[0;34m'deg'\u001b[0m\u001b[0;34m)\u001b[0m\u001b[0;34m\u001b[0m\u001b[0m\n\u001b[1;32m      4\u001b[0m \u001b[0;34m\u001b[0m\u001b[0m\n\u001b[1;32m      5\u001b[0m \u001b[0maltaz\u001b[0m \u001b[0;34m=\u001b[0m \u001b[0mskycoord\u001b[0m\u001b[0;34m.\u001b[0m\u001b[0mtransform_to\u001b[0m\u001b[0;34m(\u001b[0m\u001b[0mAltAz\u001b[0m\u001b[0;34m(\u001b[0m\u001b[0mobstime\u001b[0m\u001b[0;34m=\u001b[0m\u001b[0mobstime\u001b[0m\u001b[0;34m,\u001b[0m \u001b[0mlocation\u001b[0m\u001b[0;34m=\u001b[0m\u001b[0mloc\u001b[0m\u001b[0;34m)\u001b[0m\u001b[0;34m)\u001b[0m\u001b[0;34m\u001b[0m\u001b[0m\n",
      "\u001b[0;31mNameError\u001b[0m: name 'dirty' is not defined"
     ]
    }
   ],
   "source": [
    "loc = EarthLocation.from_geocentric(*dirty.telescope_location, unit='m')\n",
    "obstime = Time(np.mean(dirty.time_array),format='jd')\n",
    "skycoord = SkyCoord(RA,DEC,unit='deg')\n",
    "\n",
    "altaz = skycoord.transform_to(AltAz(obstime=obstime, location=loc))\n",
    "zenith_altaz = SkyCoord(Angle(0, unit='deg'), Angle(90, unit='deg'), frame='altaz',obstime=obstime, location=loc)\n",
    "\n",
    "altaz.separation(zenith_altaz)"
   ]
  },
  {
   "cell_type": "code",
   "execution_count": null,
   "metadata": {},
   "outputs": [],
   "source": []
  }
 ],
 "metadata": {
  "kernelspec": {
   "display_name": "Python 2",
   "language": "python",
   "name": "python2"
  },
  "language_info": {
   "codemirror_mode": {
    "name": "ipython",
    "version": 2
   },
   "file_extension": ".py",
   "mimetype": "text/x-python",
   "name": "python",
   "nbconvert_exporter": "python",
   "pygments_lexer": "ipython2",
   "version": "2.7.16"
  }
 },
 "nbformat": 4,
 "nbformat_minor": 2
}
