{
 "cells": [
  {
   "cell_type": "code",
   "execution_count": 1,
   "metadata": {},
   "outputs": [],
   "source": [
    "from astropy.io import fits\n",
    "from pyuvdata import UVData\n",
    "import numpy as np\n",
    "from astropy.coordinates import EarthLocation, SkyCoord, AltAz, Angle\n",
    "from astropy.time import Time"
   ]
  },
  {
   "cell_type": "code",
   "execution_count": 7,
   "metadata": {},
   "outputs": [],
   "source": [
    "path = \"/Users/dstorer/Files/hera_FHD_results/ssinsFlagged\"\n",
    "version = \"fhd_ssinsFlaggedHeraDataJoshSettingsJuly2019_11\"\n",
    "obsid = \"zen.2458098.37904.HH_11\"\n",
    "RA = 1\n",
    "DEC = 1\n",
    "\n",
    "prefix = path + '/' + version + '/' + 'metadata' + '/' + obsid + '_'\n",
    "files1 = [prefix + f for f in ['params.sav','settings.txt']]\n",
    "prefix = path + '/' + version + '/' + 'vis_data' + '/' + obsid + '_'\n",
    "files2 = [prefix + f for f in ['flags.sav','vis_XX.sav','vis_YY.sav','vis_model_XX.sav','vis_model_YY.sav']]\n",
    "files = np.append(files1, files2)"
   ]
  },
  {
   "cell_type": "code",
   "execution_count": 8,
   "metadata": {},
   "outputs": [
    {
     "name": "stderr",
     "output_type": "stream",
     "text": [
      "antenna_diameters is not set. Using known values for HERA.\n"
     ]
    },
    {
     "name": "stdout",
     "output_type": "stream",
     "text": [
      "Downloading http://maia.usno.navy.mil/ser7/finals2000A.all [Done]\n"
     ]
    }
   ],
   "source": [
    "data = UVData()\n",
    "data.read_fhd(files)"
   ]
  },
  {
   "cell_type": "code",
   "execution_count": 11,
   "metadata": {},
   "outputs": [
    {
     "data": {
      "text/latex": [
       "$4^\\mathrm{h}00^\\mathrm{m}05.0397^\\mathrm{s}$"
      ],
      "text/plain": [
       "<Longitude 4.00139991 hourangle>"
      ]
     },
     "execution_count": 11,
     "metadata": {},
     "output_type": "execute_result"
    }
   ],
   "source": [
    "loc = EarthLocation.from_geocentric(*data.telescope_location, unit='m')\n",
    "obstime = Time(np.mean(data.time_array),format='jd',location=loc)\n",
    "obstime.sidereal_time('mean')"
   ]
  },
  {
   "cell_type": "code",
   "execution_count": null,
   "metadata": {},
   "outputs": [],
   "source": []
  }
 ],
 "metadata": {
  "kernelspec": {
   "display_name": "Python 2",
   "language": "python",
   "name": "python2"
  },
  "language_info": {
   "codemirror_mode": {
    "name": "ipython",
    "version": 2
   },
   "file_extension": ".py",
   "mimetype": "text/x-python",
   "name": "python",
   "nbconvert_exporter": "python",
   "pygments_lexer": "ipython2",
   "version": "2.7.16"
  }
 },
 "nbformat": 4,
 "nbformat_minor": 2
}
